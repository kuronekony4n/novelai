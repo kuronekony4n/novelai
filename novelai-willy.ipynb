{
  "nbformat": 4,
  "nbformat_minor": 0,
  "metadata": {
    "colab": {
      "provenance": [],
      "collapsed_sections": []
    },
    "kernelspec": {
      "name": "python3",
      "display_name": "Python 3"
    },
    "language_info": {
      "name": "python"
    },
    "accelerator": "GPU"
  },
  "cells": [
    {
      "cell_type": "markdown",
      "source": [
        "![Hatsune Miku](http://s3.amazonaws.com/appforest_uf/f1666410186297x338032311047333760/hatsune%20miku%2C%20twintails%2C%20%28%28llustratio%29%29%2C%20%28%28floating%20hair%29%2C%20%28%28caustic%29%29%2C%20dynamic%20angle%2C%20%28%281girl%29%29%2C%20serious%2C%20apocalyptic%20city%2C%20close-up%2C%20%20s-4049987376.png)\n",
        "# **NAIFU**"
      ],
      "metadata": {
        "id": "KZ88G-iWCTs7"
      }
    },
    {
      "cell_type": "code",
      "execution_count": null,
      "metadata": {
        "id": "X5yF8TS1CR3L",
        "cellView": "form"
      },
      "outputs": [],
      "source": [
        "#@title ### `0` Check type of GPU and VRAM available.\n",
        "!nvidia-smi --query-gpu=name,memory.total,memory.free --format=csv,noheader"
      ]
    },
    {
      "cell_type": "code",
      "source": [
        "#@title ### `1` Download Novel AI API backend and models \n",
        "#@markdown If the download speed is too slow, try restarting.\n",
        "\n",
        "%cd /content/\n",
        "!wget https://pub-2fdef7a2969f43289c42ac5ae3412fd4.r2.dev/naifu.tar\n",
        "\n",
        "!echo \"Decompressing...\"\n",
        "!tar xf naifu.tar && rm naifu.tar\n",
        "!echo \"Done.\""
      ],
      "metadata": {
        "id": "iqTO_Uf3F6VW",
        "cellView": "form"
      },
      "execution_count": null,
      "outputs": []
    },
    {
      "cell_type": "code",
      "source": [
        "#@title ### `2` Install dependencies\n",
        "#@markdown Wait patiently for the installation to complete (If it ask to restart, select yes).\n",
        "#@markdown This is also make the main.py little bit better!\n",
        "\n",
        "%cd /content/naifu\n",
        "%rm -r main.py\n",
        "!wget -q \"http://s3.amazonaws.com/appforest_uf/f1666012034553x334925818235409800/main.py\"\n",
        "!pip install virtualenv && bash ./setup.sh\n",
        "!curl -Ls https://github.com/ekzhang/bore/releases/download/v0.4.0/bore-v0.4.0-x86_64-unknown-linux-musl.tar.gz | tar zx -C /usr/bin\n",
        "!curl -Lo /usr/bin/cloudflared https://github.com/cloudflare/cloudflared/releases/latest/download/cloudflared-linux-amd64 && chmod +x /usr/bin/cloudflared"
      ],
      "metadata": {
        "id": "BysBfYRmGSo1",
        "cellView": "form"
      },
      "execution_count": null,
      "outputs": []
    },
    {
      "cell_type": "code",
      "source": [
        "#@title ### `3` Start the program\n",
        "#@markdown Just visit the output mapping address (end with `trycloudflare.com` / `bore.pub`).\n",
        "#@markdown - Please wait until the model is loaded (`\"Application startup complete\"` appears).\n",
        "#@markdown - The services provided by cloudflare occasionally have request timeouts, which can be replaced by bore tunnels.\n",
        "\n",
        "%cd \"/content/naifu/venv/lib/python3.7/site-packages/pytorch_lightning/utilities\"\n",
        "%rm -r distributed.py\n",
        "!wget -q \"http://s3.amazonaws.com/appforest_uf/f1667479430798x505063025416020400/distributed.py\"\n",
        "\n",
        "%cd /content/naifu\n",
        "!sed -i 's/# export SAVE_FILES=\"1\"/export SAVE_FILES=\"1\"/g' run.sh\n",
        "!bash run.sh & cloudflared tunnel --url localhost:6969 "
      ],
      "metadata": {
        "id": "uQBR9zXQGJrn",
        "cellView": "form"
      },
      "execution_count": null,
      "outputs": []
    },
    {
      "cell_type": "code",
      "source": [
        "#@title ### `#` Make ZIP from Images folder\n",
        "\n",
        "%cd \"/content/naifu\"\n",
        "!zip -r \"images.zip\" \"images\""
      ],
      "metadata": {
        "id": "_Zm-5m97fduz",
        "cellView": "form"
      },
      "execution_count": null,
      "outputs": []
    },
    {
      "cell_type": "code",
      "source": [
        "#@title ### `#` Empty Images Folder\n",
        "\n",
        "%cd \"/content/naifu\"\n",
        "%rm -r \"images\"\n",
        "%mkdir \"images\""
      ],
      "metadata": {
        "id": "pAwnQYzccqov",
        "cellView": "form"
      },
      "execution_count": null,
      "outputs": []
    },
    {
      "cell_type": "markdown",
      "source": [
        "![Hatsune Miku 2](//s3.amazonaws.com/appforest_uf/f1667134524154x323726044297401900/hatsune%20miku%2C%20twintails%2C%20%28%28llustratio%29%29%2C%20%28%28floating%20hair%29%2C%20%28%28caustic%29%29%2C%20dynamic%20angle%2C%20%28%281girl%29%29%2C%20serious%2C%20genshin%20impact%2C%20%20s-527258571.png)\n",
        "\n",
        "Useful links: \n",
        "[NovelAI Docs](https://docs.novelai.net/ \"Documentation of NovelAI\") | [DanbooruPromptBuilder](https://tags.novelai.dev/ \"PromptBuilder, but it's not finished yet and in chinese.\") | [Real-ESRGAN](https://replicate.com/xinntao/realesrgan \"Free Anime Image Upscaler, I've try using it enlarge image 16x and it's good!\") | [Waifu2X](http://waifu2x.udp.jp/ \"Very Good Image Upscaler\") | [BigJPG](https://bigjpg.com/en \"Very Epic Img Upscaler (up to 16x) but Paid.\") | [DeepDanbooru](https://huggingface.co/spaces/hysts/DeepDanbooru \"Use Machine Learning to Identify danbooru tags based on Image!\") | [Google Frame Interpolation](https://replicate.com/google-research/frame-interpolation \"Use ML for making a transtition using 2 images!\") | [SpellNovelAI](https://spell.novelai.dev/ \"Get Metadata from Image! (Also can peek into StableDiff-generated Image's prompt!)\") | [Experiment Paper on Styles](https://docs.google.com/document/d/11sb3AOCE4B5CZeMELNL8PwWoIae2jkrdcz-UEJw_Ayc/ \"Just check it out!\") | [Prompt Style Guide](https://www.reveddit.com/v/NovelAi/comments/y7679g/i_made_an_experiment_with_different_styles_here/ \"Reddit Post of Style Guide you can use on your prompt.\") [(?)](https://i.redd.it/cjoquuyg9ku91.jpg \"What is this?\") | [Using EMOJI as Prompt](https://www.reddit.com/r/NovelAi/comments/y6nzbv/what_happens_if_you_use_emojis_as_your_prompt/ \"Yes, you can! Heres an example!\") | [NovelAI Reddit](https://www.reddit.com/r/NovelAi/ \"Share and Discuss your Gen!\") | [NovelAI Discord](https://discord.com/invite/novelai \"Share and Discuss your Gen! (but on discord)\")\n",
        "\n",
        "\n"
      ],
      "metadata": {
        "id": "7kP7x9EBgo0S"
      }
    },
    {
      "cell_type": "markdown",
      "source": [
        "Documentation: [StableDiffusion Models](https://rentry.org/sdmodels) | [Voldy Guide](https://rentry.org/voldy) | [StableDiffusion FAQ](https://rentry.org/sdg_FAQ)"
      ],
      "metadata": {
        "id": "E8ywNoeRzKvB"
      }
    }
  ]
}
